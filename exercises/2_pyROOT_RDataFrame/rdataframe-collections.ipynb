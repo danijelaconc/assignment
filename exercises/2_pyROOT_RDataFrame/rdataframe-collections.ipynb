{
 "cells": [
  {
   "cell_type": "markdown",
   "id": "41ca9b9e",
   "metadata": {},
   "source": [
    "# Exercise: RDataFrame and collections"
   ]
  },
  {
   "cell_type": "markdown",
   "id": "c5657ad2",
   "metadata": {},
   "source": [
    "The same dataset used in the previous exercise (`TTree` \"dataset\" in file `../data/example_file.root`) contains two vector columns `vec1` and `vec2`.<br>\n",
    "The elements of `vec1` are distributed as a mixture of Gaussians, plus background noise.<br>\n",
    "To remove the background noise, select the elements of `vec1` for which the square of the corresponding elements in `vec2` is less than 0.1.\n",
    "\n",
    "Where are the peaks of this mixture of Gaussians?\n",
    "\n",
    "### Useful links\n",
    "\n",
    "- [RDataFrame: working with collections](https://root.cern/doc/master/classROOT_1_1RDataFrame.html#collections)\n",
    "- [RVec reference](https://root.cern/doc/master/classROOT_1_1VecOps_1_1RVec.html)"
   ]
  },
  {
   "cell_type": "code",
   "execution_count": 1,
   "id": "4dea17f9",
   "metadata": {},
   "outputs": [
    {
     "name": "stdout",
     "output_type": "stream",
     "text": [
      "Welcome to JupyROOT 6.30/07\n"
     ]
    }
   ],
   "source": [
    "import ROOT"
   ]
  },
  {
   "cell_type": "code",
   "execution_count": 2,
   "id": "14883c9b-3308-4040-9f5c-806056c4680e",
   "metadata": {},
   "outputs": [
    {
     "name": "stdout",
     "output_type": "stream",
     "text": [
      "Columns in the dataset: { \"a\", \"b\", \"vec1\", \"vec2\" }\n"
     ]
    }
   ],
   "source": [
    "treename = \"dataset\"\n",
    "filename = \"/uscms_data/d3/dconcion/final_assignment/assignment/example_file.root\"\n",
    "df = ROOT.RDataFrame(treename, filename)\n",
    "\n",
    "print(f\"Columns in the dataset: {df.GetColumnNames()}\")"
   ]
  },
  {
   "cell_type": "code",
   "execution_count": 8,
   "id": "6b0fafd7-1cf7-4b66-9542-766af6d87eb4",
   "metadata": {},
   "outputs": [],
   "source": [
    "df_filter = df.Define(\"vec1_no_noise\", \"vec1[(vec2*vec2)<0.1]\")"
   ]
  },
  {
   "cell_type": "code",
   "execution_count": 18,
   "id": "8d8620e7-6054-4849-9bae-44e3a258052e",
   "metadata": {},
   "outputs": [
    {
     "data": {
      "image/png": "[encoded data removed]",
      "text/plain": [
       "<IPython.core.display.Image object>"
      ]
     },
     "metadata": {},
     "output_type": "display_data"
    }
   ],
   "source": [
    "c = ROOT.TCanvas()\n",
    "h = df_filter.Histo1D((\"histogram\", \"Gaussian Peaks\", 100, -10, 10), \"vec1_no_noise\")\n",
    "h.Draw()\n",
    "c.Draw()"
   ]
  },
  {
   "cell_type": "code",
   "execution_count": 22,
   "id": "1ad3757c-8c80-4773-b313-20fc21f67b33",
   "metadata": {},
   "outputs": [],
   "source": [
    "# where are the peaks?\n",
    "# The peaks of the mixture of gaussians are at around (-2,46) and (3,80)"
   ]
  },
  {
   "cell_type": "code",
   "execution_count": 24,
   "id": "b4c925e5-57eb-48bf-828e-eb5fa8095ced",
   "metadata": {},
   "outputs": [
    {
     "name": "stdout",
     "output_type": "stream",
     "text": [
      "Peak 1: x = 2.900000000000001\n",
      "Peak 2: x = -2.4999999999999996\n"
     ]
    }
   ],
   "source": [
    "# was not sure how to do this so I got some help online\n",
    "spectrum = ROOT.TSpectrum()\n",
    "n_peaks = spectrum.Search(h.GetPtr(), 2, \"\", 0.05) \n",
    "peaks = spectrum.GetPositionX()\n",
    "\n",
    "for i in range(n_peaks):\n",
    "    print(f\"Peak {i+1}: x = {peaks[i]}\")"
   ]
  }
 ],
 "metadata": {
  "kernelspec": {
   "display_name": "Python 3 (ipykernel)",
   "language": "python",
   "name": "python3"
  },
  "language_info": {
   "codemirror_mode": {
    "name": "ipython",
    "version": 3
   },
   "file_extension": ".py",
   "mimetype": "text/x-python",
   "name": "python",
   "nbconvert_exporter": "python",
   "pygments_lexer": "ipython3",
   "version": "3.9.14"
  }
 },
 "nbformat": 4,
 "nbformat_minor": 5
}
