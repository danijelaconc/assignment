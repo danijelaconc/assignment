{
 "cells": [
  {
   "attachments": {},
   "cell_type": "markdown",
   "metadata": {},
   "source": [
    "# Iris Dataset Analysis"
   ]
  },
  {
   "attachments": {},
   "cell_type": "markdown",
   "metadata": {},
   "source": [
    "## Prepare the dataset"
   ]
  },
  {
   "attachments": {},
   "cell_type": "markdown",
   "metadata": {},
   "source": [
    "Use `numpy` or to load `data/iris.data`. Remember to look at the file contents to understand the data format."
   ]
  },
  {
   "cell_type": "code",
   "execution_count": 1,
   "metadata": {
    "scrolled": true
   },
   "outputs": [
    {
     "name": "stdout",
     "output_type": "stream",
     "text": [
      "[['5.1' '3.5' '1.4' '0.2' 'Iris-setosa']\n",
      " ['4.9' '3.0' '1.4' '0.2' 'Iris-setosa']\n",
      " ['4.7' '3.2' '1.3' '0.2' 'Iris-setosa']\n",
      " ['4.6' '3.1' '1.5' '0.2' 'Iris-setosa']\n",
      " ['5.0' '3.6' '1.4' '0.2' 'Iris-setosa']\n",
      " ['5.4' '3.9' '1.7' '0.4' 'Iris-setosa']\n",
      " ['4.6' '3.4' '1.4' '0.3' 'Iris-setosa']\n",
      " ['5.0' '3.4' '1.5' '0.2' 'Iris-setosa']\n",
      " ['4.4' '2.9' '1.4' '0.2' 'Iris-setosa']\n",
      " ['4.9' '3.1' '1.5' '0.1' 'Iris-setosa']\n",
      " ['5.4' '3.7' '1.5' '0.2' 'Iris-setosa']\n",
      " ['4.8' '3.4' '1.6' '0.2' 'Iris-setosa']\n",
      " ['4.8' '3.0' '1.4' '0.1' 'Iris-setosa']\n",
      " ['4.3' '3.0' '1.1' '0.1' 'Iris-setosa']\n",
      " ['5.8' '4.0' '1.2' '0.2' 'Iris-setosa']\n",
      " ['5.7' '4.4' '1.5' '0.4' 'Iris-setosa']\n",
      " ['5.4' '3.9' '1.3' '0.4' 'Iris-setosa']\n",
      " ['5.1' '3.5' '1.4' '0.3' 'Iris-setosa']\n",
      " ['5.7' '3.8' '1.7' '0.3' 'Iris-setosa']\n",
      " ['5.1' '3.8' '1.5' '0.3' 'Iris-setosa']\n",
      " ['5.4' '3.4' '1.7' '0.2' 'Iris-setosa']\n",
      " ['5.1' '3.7' '1.5' '0.4' 'Iris-setosa']\n",
      " ['4.6' '3.6' '1.0' '0.2' 'Iris-setosa']\n",
      " ['5.1' '3.3' '1.7' '0.5' 'Iris-setosa']\n",
      " ['4.8' '3.4' '1.9' '0.2' 'Iris-setosa']\n",
      " ['5.0' '3.0' '1.6' '0.2' 'Iris-setosa']\n",
      " ['5.0' '3.4' '1.6' '0.4' 'Iris-setosa']\n",
      " ['5.2' '3.5' '1.5' '0.2' 'Iris-setosa']\n",
      " ['5.2' '3.4' '1.4' '0.2' 'Iris-setosa']\n",
      " ['4.7' '3.2' '1.6' '0.2' 'Iris-setosa']\n",
      " ['4.8' '3.1' '1.6' '0.2' 'Iris-setosa']\n",
      " ['5.4' '3.4' '1.5' '0.4' 'Iris-setosa']\n",
      " ['5.2' '4.1' '1.5' '0.1' 'Iris-setosa']\n",
      " ['5.5' '4.2' '1.4' '0.2' 'Iris-setosa']\n",
      " ['4.9' '3.1' '1.5' '0.1' 'Iris-setosa']\n",
      " ['5.0' '3.2' '1.2' '0.2' 'Iris-setosa']\n",
      " ['5.5' '3.5' '1.3' '0.2' 'Iris-setosa']\n",
      " ['4.9' '3.1' '1.5' '0.1' 'Iris-setosa']\n",
      " ['4.4' '3.0' '1.3' '0.2' 'Iris-setosa']\n",
      " ['5.1' '3.4' '1.5' '0.2' 'Iris-setosa']\n",
      " ['5.0' '3.5' '1.3' '0.3' 'Iris-setosa']\n",
      " ['4.5' '2.3' '1.3' '0.3' 'Iris-setosa']\n",
      " ['4.4' '3.2' '1.3' '0.2' 'Iris-setosa']\n",
      " ['5.0' '3.5' '1.6' '0.6' 'Iris-setosa']\n",
      " ['5.1' '3.8' '1.9' '0.4' 'Iris-setosa']\n",
      " ['4.8' '3.0' '1.4' '0.3' 'Iris-setosa']\n",
      " ['5.1' '3.8' '1.6' '0.2' 'Iris-setosa']\n",
      " ['4.6' '3.2' '1.4' '0.2' 'Iris-setosa']\n",
      " ['5.3' '3.7' '1.5' '0.2' 'Iris-setosa']\n",
      " ['5.0' '3.3' '1.4' '0.2' 'Iris-setosa']\n",
      " ['7.0' '3.2' '4.7' '1.4' 'Iris-versicolor']\n",
      " ['6.4' '3.2' '4.5' '1.5' 'Iris-versicolor']\n",
      " ['6.9' '3.1' '4.9' '1.5' 'Iris-versicolor']\n",
      " ['5.5' '2.3' '4.0' '1.3' 'Iris-versicolor']\n",
      " ['6.5' '2.8' '4.6' '1.5' 'Iris-versicolor']\n",
      " ['5.7' '2.8' '4.5' '1.3' 'Iris-versicolor']\n",
      " ['6.3' '3.3' '4.7' '1.6' 'Iris-versicolor']\n",
      " ['4.9' '2.4' '3.3' '1.0' 'Iris-versicolor']\n",
      " ['6.6' '2.9' '4.6' '1.3' 'Iris-versicolor']\n",
      " ['5.2' '2.7' '3.9' '1.4' 'Iris-versicolor']\n",
      " ['5.0' '2.0' '3.5' '1.0' 'Iris-versicolor']\n",
      " ['5.9' '3.0' '4.2' '1.5' 'Iris-versicolor']\n",
      " ['6.0' '2.2' '4.0' '1.0' 'Iris-versicolor']\n",
      " ['6.1' '2.9' '4.7' '1.4' 'Iris-versicolor']\n",
      " ['5.6' '2.9' '3.6' '1.3' 'Iris-versicolor']\n",
      " ['6.7' '3.1' '4.4' '1.4' 'Iris-versicolor']\n",
      " ['5.6' '3.0' '4.5' '1.5' 'Iris-versicolor']\n",
      " ['5.8' '2.7' '4.1' '1.0' 'Iris-versicolor']\n",
      " ['6.2' '2.2' '4.5' '1.5' 'Iris-versicolor']\n",
      " ['5.6' '2.5' '3.9' '1.1' 'Iris-versicolor']\n",
      " ['5.9' '3.2' '4.8' '1.8' 'Iris-versicolor']\n",
      " ['6.1' '2.8' '4.0' '1.3' 'Iris-versicolor']\n",
      " ['6.3' '2.5' '4.9' '1.5' 'Iris-versicolor']\n",
      " ['6.1' '2.8' '4.7' '1.2' 'Iris-versicolor']\n",
      " ['6.4' '2.9' '4.3' '1.3' 'Iris-versicolor']\n",
      " ['6.6' '3.0' '4.4' '1.4' 'Iris-versicolor']\n",
      " ['6.8' '2.8' '4.8' '1.4' 'Iris-versicolor']\n",
      " ['6.7' '3.0' '5.0' '1.7' 'Iris-versicolor']\n",
      " ['6.0' '2.9' '4.5' '1.5' 'Iris-versicolor']\n",
      " ['5.7' '2.6' '3.5' '1.0' 'Iris-versicolor']\n",
      " ['5.5' '2.4' '3.8' '1.1' 'Iris-versicolor']\n",
      " ['5.5' '2.4' '3.7' '1.0' 'Iris-versicolor']\n",
      " ['5.8' '2.7' '3.9' '1.2' 'Iris-versicolor']\n",
      " ['6.0' '2.7' '5.1' '1.6' 'Iris-versicolor']\n",
      " ['5.4' '3.0' '4.5' '1.5' 'Iris-versicolor']\n",
      " ['6.0' '3.4' '4.5' '1.6' 'Iris-versicolor']\n",
      " ['6.7' '3.1' '4.7' '1.5' 'Iris-versicolor']\n",
      " ['6.3' '2.3' '4.4' '1.3' 'Iris-versicolor']\n",
      " ['5.6' '3.0' '4.1' '1.3' 'Iris-versicolor']\n",
      " ['5.5' '2.5' '4.0' '1.3' 'Iris-versicolor']\n",
      " ['5.5' '2.6' '4.4' '1.2' 'Iris-versicolor']\n",
      " ['6.1' '3.0' '4.6' '1.4' 'Iris-versicolor']\n",
      " ['5.8' '2.6' '4.0' '1.2' 'Iris-versicolor']\n",
      " ['5.0' '2.3' '3.3' '1.0' 'Iris-versicolor']\n",
      " ['5.6' '2.7' '4.2' '1.3' 'Iris-versicolor']\n",
      " ['5.7' '3.0' '4.2' '1.2' 'Iris-versicolor']\n",
      " ['5.7' '2.9' '4.2' '1.3' 'Iris-versicolor']\n",
      " ['6.2' '2.9' '4.3' '1.3' 'Iris-versicolor']\n",
      " ['5.1' '2.5' '3.0' '1.1' 'Iris-versicolor']\n",
      " ['5.7' '2.8' '4.1' '1.3' 'Iris-versicolor']\n",
      " ['6.3' '3.3' '6.0' '2.5' 'Iris-virginica']\n",
      " ['5.8' '2.7' '5.1' '1.9' 'Iris-virginica']\n",
      " ['7.1' '3.0' '5.9' '2.1' 'Iris-virginica']\n",
      " ['6.3' '2.9' '5.6' '1.8' 'Iris-virginica']\n",
      " ['6.5' '3.0' '5.8' '2.2' 'Iris-virginica']\n",
      " ['7.6' '3.0' '6.6' '2.1' 'Iris-virginica']\n",
      " ['4.9' '2.5' '4.5' '1.7' 'Iris-virginica']\n",
      " ['7.3' '2.9' '6.3' '1.8' 'Iris-virginica']\n",
      " ['6.7' '2.5' '5.8' '1.8' 'Iris-virginica']\n",
      " ['7.2' '3.6' '6.1' '2.5' 'Iris-virginica']\n",
      " ['6.5' '3.2' '5.1' '2.0' 'Iris-virginica']\n",
      " ['6.4' '2.7' '5.3' '1.9' 'Iris-virginica']\n",
      " ['6.8' '3.0' '5.5' '2.1' 'Iris-virginica']\n",
      " ['5.7' '2.5' '5.0' '2.0' 'Iris-virginica']\n",
      " ['5.8' '2.8' '5.1' '2.4' 'Iris-virginica']\n",
      " ['6.4' '3.2' '5.3' '2.3' 'Iris-virginica']\n",
      " ['6.5' '3.0' '5.5' '1.8' 'Iris-virginica']\n",
      " ['7.7' '3.8' '6.7' '2.2' 'Iris-virginica']\n",
      " ['7.7' '2.6' '6.9' '2.3' 'Iris-virginica']\n",
      " ['6.0' '2.2' '5.0' '1.5' 'Iris-virginica']\n",
      " ['6.9' '3.2' '5.7' '2.3' 'Iris-virginica']\n",
      " ['5.6' '2.8' '4.9' '2.0' 'Iris-virginica']\n",
      " ['7.7' '2.8' '6.7' '2.0' 'Iris-virginica']\n",
      " ['6.3' '2.7' '4.9' '1.8' 'Iris-virginica']\n",
      " ['6.7' '3.3' '5.7' '2.1' 'Iris-virginica']\n",
      " ['7.2' '3.2' '6.0' '1.8' 'Iris-virginica']\n",
      " ['6.2' '2.8' '4.8' '1.8' 'Iris-virginica']\n",
      " ['6.1' '3.0' '4.9' '1.8' 'Iris-virginica']\n",
      " ['6.4' '2.8' '5.6' '2.1' 'Iris-virginica']\n",
      " ['7.2' '3.0' '5.8' '1.6' 'Iris-virginica']\n",
      " ['7.4' '2.8' '6.1' '1.9' 'Iris-virginica']\n",
      " ['7.9' '3.8' '6.4' '2.0' 'Iris-virginica']\n",
      " ['6.4' '2.8' '5.6' '2.2' 'Iris-virginica']\n",
      " ['6.3' '2.8' '5.1' '1.5' 'Iris-virginica']\n",
      " ['6.1' '2.6' '5.6' '1.4' 'Iris-virginica']\n",
      " ['7.7' '3.0' '6.1' '2.3' 'Iris-virginica']\n",
      " ['6.3' '3.4' '5.6' '2.4' 'Iris-virginica']\n",
      " ['6.4' '3.1' '5.5' '1.8' 'Iris-virginica']\n",
      " ['6.0' '3.0' '4.8' '1.8' 'Iris-virginica']\n",
      " ['6.9' '3.1' '5.4' '2.1' 'Iris-virginica']\n",
      " ['6.7' '3.1' '5.6' '2.4' 'Iris-virginica']\n",
      " ['6.9' '3.1' '5.1' '2.3' 'Iris-virginica']\n",
      " ['5.8' '2.7' '5.1' '1.9' 'Iris-virginica']\n",
      " ['6.8' '3.2' '5.9' '2.3' 'Iris-virginica']\n",
      " ['6.7' '3.3' '5.7' '2.5' 'Iris-virginica']\n",
      " ['6.7' '3.0' '5.2' '2.3' 'Iris-virginica']\n",
      " ['6.3' '2.5' '5.0' '1.9' 'Iris-virginica']\n",
      " ['6.5' '3.0' '5.2' '2.0' 'Iris-virginica']\n",
      " ['6.2' '3.4' '5.4' '2.3' 'Iris-virginica']\n",
      " ['5.9' '3.0' '5.1' '1.8' 'Iris-virginica']]\n"
     ]
    },
    {
     "name": "stderr",
     "output_type": "stream",
     "text": [
      "/tmp/ipykernel_3372879/2454430895.py:3: UserWarning: Input line 151 contained no data and will not be counted towards `max_rows=50000`.  This differs from the behaviour in NumPy <=1.22 which counted lines rather than rows.  If desired, the previous behaviour can be achieved by using `itertools.islice`.\n",
      "Please see the 1.23 release notes for an example on how to do this.  If you wish to ignore this warning, use `warnings.filterwarnings`.  This warning is expected to be removed in the future and is given only once per `loadtxt` call.\n",
      "  data = np.loadtxt('iris.data', delimiter= ',', dtype=str)\n"
     ]
    }
   ],
   "source": [
    "import numpy as np\n",
    "\n",
    "data = np.loadtxt('iris.data', delimiter= ',', dtype=str)\n",
    "\n",
    "print(data)"
   ]
  },
  {
   "attachments": {},
   "cell_type": "markdown",
   "metadata": {},
   "source": [
    "Create a map that returns the attribute name given the attribute index.\n",
    "\n",
    "- 0 -> sepal length\n",
    "- 1 -> sepal width\n",
    "- 2 -> petal length\n",
    "- 3 -> petal width"
   ]
  },
  {
   "cell_type": "code",
   "execution_count": 17,
   "metadata": {},
   "outputs": [
    {
     "name": "stdout",
     "output_type": "stream",
     "text": [
      "sepal width\n"
     ]
    }
   ],
   "source": [
    "map = {\n",
    "    0 : 'sepal length',\n",
    "    1 :'sepal width',\n",
    "    2 : 'petal length',\n",
    "    3 : 'petal width'\n",
    "}\n",
    "\n",
    "def attribute_name(index):\n",
    "    return map[index]\n",
    "\n",
    "attribute_index = 1\n",
    "print(attribute_name(attribute_index))\n"
   ]
  },
  {
   "attachments": {},
   "cell_type": "markdown",
   "metadata": {},
   "source": [
    "## Data analysis"
   ]
  },
  {
   "attachments": {},
   "cell_type": "markdown",
   "metadata": {},
   "source": [
    "Write a function that prints the mean and another that prints the standard deviation of each attribute."
   ]
  },
  {
   "cell_type": "code",
   "execution_count": 60,
   "metadata": {},
   "outputs": [
    {
     "name": "stdout",
     "output_type": "stream",
     "text": [
      "The mean of attribute 1 is 5.843333333333335\n",
      "The mean of attribute 2 is 3.0540000000000007\n",
      "The mean of attribute 3 is 3.7586666666666693\n",
      "The mean of attribute 4 is 1.1986666666666672\n",
      "The STD of attribute1 is 0.8253012917851409\n",
      "The STD of attribute2 is 0.4321465800705435\n",
      "The STD of attribute3 is 1.7585291834055201\n",
      "The STD of attribute4 is 0.760612618588172\n"
     ]
    },
    {
     "data": {
      "text/plain": [
       "'\\nThis is the other way that I did it, was long and didn\\'t work for the second problem below this one:\\n\\narray_sepal_length = np.array(attributes[:,0])\\narray_sepal_width = np.array(attributes[:,1])\\narray_petal_length = np.array(attributes[:,2])\\narray_petal_width = np.array(attributes[:,3])\\n\\ndef attribute_mean(index):\\n    if index == 0:\\n        return np.mean(array_sepal_length)\\n    elif index == 1:\\n        return np.mean(array_sepal_width)\\n    elif index == 2:\\n        return np.mean(array_petal_length)\\n    elif index == 3:\\n        return np.mean(array_petal_width)\\n\\nprint(f\"The mean of attribute_index 0 is\", attribute_mean(0))\\nprint(f\"The mean of attribute_index 0 is\", attribute_mean(1))\\nprint(f\"The mean of attribute_index 0 is\", attribute_mean(2))\\nprint(f\"The mean of attribute_index 0 is\", attribute_mean(3))\\n\\ndef attribute_std(index):\\n    if index == 0:\\n        return np.std(array_sepal_length)\\n    elif index == 1:\\n        return np.std(array_sepal_width)\\n    elif index == 2:\\n        return np.std(array_petal_length)\\n    elif index == 3:\\n        return np.std(array_petal_width)\\n\\n\\nprint(f\"The std of attribute_index 0 is\", attribute_std(0))\\nprint(f\"The std of attribute_index 0 is\", attribute_std(1))\\nprint(f\"The std of attribute_index 0 is\", attribute_std(2))\\nprint(f\"The std of attribute_index 0 is\", attribute_std(3))\\n'"
      ]
     },
     "execution_count": 60,
     "metadata": {},
     "output_type": "execute_result"
    }
   ],
   "source": [
    "import numpy as np\n",
    "attributes = np.loadtxt('iris.attributes', delimiter = ',', dtype=float)\n",
    "\n",
    "def attribute_mean(attributes):\n",
    "    column_means = np.mean(attributes,axis=0)\n",
    "    for i, mean in enumerate(column_means):\n",
    "        print(f\"The mean of attribute {i+1} is {mean}\")\n",
    "\n",
    "def attribute_std(attributes):\n",
    "    column_std = np.std(attributes,axis=0)\n",
    "    for i, std in enumerate(column_std):\n",
    "        print(f\"The STD of attribute{i+1} is {std}\")\n",
    "\n",
    "attribute_mean(attributes)\n",
    "attribute_std(attributes)\n",
    "\n",
    "'''\n",
    "This is the other way that I did it, was long and didn't work for the second problem below this one:\n",
    "\n",
    "array_sepal_length = np.array(attributes[:,0])\n",
    "array_sepal_width = np.array(attributes[:,1])\n",
    "array_petal_length = np.array(attributes[:,2])\n",
    "array_petal_width = np.array(attributes[:,3])\n",
    "\n",
    "def attribute_mean(index):\n",
    "    if index == 0:\n",
    "        return np.mean(array_sepal_length)\n",
    "    elif index == 1:\n",
    "        return np.mean(array_sepal_width)\n",
    "    elif index == 2:\n",
    "        return np.mean(array_petal_length)\n",
    "    elif index == 3:\n",
    "        return np.mean(array_petal_width)\n",
    "\n",
    "print(f\"The mean of attribute_index 0 is\", attribute_mean(0))\n",
    "print(f\"The mean of attribute_index 0 is\", attribute_mean(1))\n",
    "print(f\"The mean of attribute_index 0 is\", attribute_mean(2))\n",
    "print(f\"The mean of attribute_index 0 is\", attribute_mean(3))\n",
    "\n",
    "def attribute_std(index):\n",
    "    if index == 0:\n",
    "        return np.std(array_sepal_length)\n",
    "    elif index == 1:\n",
    "        return np.std(array_sepal_width)\n",
    "    elif index == 2:\n",
    "        return np.std(array_petal_length)\n",
    "    elif index == 3:\n",
    "        return np.std(array_petal_width)\n",
    "\n",
    "\n",
    "print(f\"The std of attribute_index 0 is\", attribute_std(0))\n",
    "print(f\"The std of attribute_index 0 is\", attribute_std(1))\n",
    "print(f\"The std of attribute_index 0 is\", attribute_std(2))\n",
    "print(f\"The std of attribute_index 0 is\", attribute_std(3))\n",
    "'''"
   ]
  },
  {
   "attachments": {},
   "cell_type": "markdown",
   "metadata": {},
   "source": [
    "Use the functions you defined above to print the mean of the attributes for each class."
   ]
  },
  {
   "cell_type": "code",
   "execution_count": 65,
   "metadata": {},
   "outputs": [
    {
     "name": "stdout",
     "output_type": "stream",
     "text": [
      "The mean of attribute 1 in Iris-Setosa is 5.005999999999999\n",
      "The mean of attribute 2 in Iris-Setosa is 3.4180000000000006\n",
      "The mean of attribute 3 in Iris-Setosa is 1.464\n",
      "The mean of attribute 4 in Iris-Setosa is 0.2439999999999999\n",
      "The mean of attribute 1 in Iris-Versicolor is 5.936\n",
      "The mean of attribute 2 in Iris-Versicolor is 2.7700000000000005\n",
      "The mean of attribute 3 in Iris-Versicolor is 4.26\n",
      "The mean of attribute 4 in Iris-Versicolor is 1.3259999999999998\n",
      "The mean of attribute 1 in Iris-Virginica is 6.587999999999998\n",
      "The mean of attribute 2 in Iris-Virginica is 2.9739999999999998\n",
      "The mean of attribute 3 in Iris-Virginica is 5.552\n",
      "The mean of attribute 4 in Iris-Virginica is 2.026\n"
     ]
    },
    {
     "name": "stderr",
     "output_type": "stream",
     "text": [
      "/tmp/ipykernel_3372879/1310029515.py:1: UserWarning: Input line 151 contained no data and will not be counted towards `max_rows=50000`.  This differs from the behaviour in NumPy <=1.22 which counted lines rather than rows.  If desired, the previous behaviour can be achieved by using `itertools.islice`.\n",
      "Please see the 1.23 release notes for an example on how to do this.  If you wish to ignore this warning, use `warnings.filterwarnings`.  This warning is expected to be removed in the future and is given only once per `loadtxt` call.\n",
      "  classes = np.loadtxt('iris.classes', delimiter = ',', dtype=str)\n"
     ]
    }
   ],
   "source": [
    "classes = np.loadtxt('iris.classes', delimiter = ',', dtype=str)\n",
    "\n",
    "def iris_setosa_mean(attributes):\n",
    "    column_means = np.mean(attributes[:50],axis=0)\n",
    "    for i, mean in enumerate(column_means):\n",
    "        print(f\"The mean of attribute {i+1} in Iris-Setosa is {mean}\")\n",
    "\n",
    "def iris_versicolor_mean(attributes):\n",
    "    column_means = np.mean(attributes[50:100],axis=0)\n",
    "    for i, mean in enumerate(column_means):\n",
    "        print(f\"The mean of attribute {i+1} in Iris-Versicolor is {mean}\")\n",
    "\n",
    "def iris_virginica_mean(attributes):\n",
    "    column_means = np.mean(attributes[100:150],axis=0)\n",
    "    for i, mean in enumerate(column_means):\n",
    "        print(f\"The mean of attribute {i+1} in Iris-Virginica is {mean}\")\n",
    "\n",
    "iris_setosa_mean(attributes)\n",
    "iris_versicolor_mean(attributes)\n",
    "iris_virginica_mean(attributes)\n",
    "\n",
    "\n",
    "\n",
    "#0-49 for iris-setosa\n",
    "#50-99 for iris-versicolor\n",
    "#100-149 for iris-virginica"
   ]
  },
  {
   "attachments": {},
   "cell_type": "markdown",
   "metadata": {},
   "source": [
    "Now, let's plot this data. Use `matplotlib` to create scatter plots for petal and sepal. Use different colors for each class."
   ]
  },
  {
   "cell_type": "code",
   "execution_count": 72,
   "metadata": {},
   "outputs": [
    {
     "name": "stderr",
     "output_type": "stream",
     "text": [
      "/tmp/ipykernel_3372879/3493406326.py:8: UserWarning: Input line 151 contained no data and will not be counted towards `max_rows=50000`.  This differs from the behaviour in NumPy <=1.22 which counted lines rather than rows.  If desired, the previous behaviour can be achieved by using `itertools.islice`.\n",
      "Please see the 1.23 release notes for an example on how to do this.  If you wish to ignore this warning, use `warnings.filterwarnings`.  This warning is expected to be removed in the future and is given only once per `loadtxt` call.\n",
      "  classes = np.loadtxt('iris.classes', delimiter = ',', dtype=str)\n"
     ]
    },
    {
     "data": {
      "image/png": "[encoded data removed]",
      "text/plain": [
       "<Figure size 640x480 with 1 Axes>"
      ]
     },
     "metadata": {},
     "output_type": "display_data"
    },
    {
     "data": {
      "image/png": "[encoded data removed]",
      "text/plain": [
       "<Figure size 640x480 with 1 Axes>"
      ]
     },
     "metadata": {},
     "output_type": "display_data"
    }
   ],
   "source": [
    "import matplotlib.pyplot as plt\n",
    "\n",
    "sepal_length = np.array(attributes[:,0])\n",
    "sepal_width = np.array(attributes[:,1])\n",
    "petal_length = np.array(attributes[:,2])\n",
    "petal_width = np.array(attributes[:,3])\n",
    "\n",
    "classes = np.loadtxt('iris.classes', delimiter = ',', dtype=str)\n",
    "\n",
    "class_1 = classes == 'Iris-setosa'\n",
    "class_2 = classes == 'Iris-versicolor'\n",
    "class_3 = classes == 'Iris-virginica'\n",
    "\n",
    "plt.figure()\n",
    "plt.scatter(sepal_length[class_1], sepal_width[class_1], color='red', marker='o', label='Iris-Setosa')\n",
    "plt.scatter(sepal_length[class_2], sepal_width[class_2], color='blue', marker='o', label='Iris-Veriscolor')\n",
    "plt.scatter(sepal_length[class_3], sepal_width[class_3], color='green', marker='o', label='Iris-Virginica')\n",
    "plt.title(\"Sepal Scatter Plot\")\n",
    "plt.legend()\n",
    "plt.show()\n",
    "\n",
    "plt.figure()\n",
    "plt.scatter(petal_length[class_1], petal_width[class_1], color='red', marker='o', label='Iris-Setosa')\n",
    "plt.scatter(petal_length[class_2], petal_width[class_2], color='blue', marker='o', label='Iris-Veriscolor')\n",
    "plt.scatter(petal_length[class_3], petal_width[class_3], color='green', marker='o', label='Iris-Virginica')\n",
    "plt.title(\"Petal Scatter Plot\")\n",
    "plt.legend()\n",
    "plt.show()"
   ]
  },
  {
   "cell_type": "code",
   "execution_count": null,
   "metadata": {},
   "outputs": [],
   "source": []
  }
 ],
 "metadata": {
  "kernelspec": {
   "display_name": "Python 3 (ipykernel)",
   "language": "python",
   "name": "python3"
  },
  "language_info": {
   "codemirror_mode": {
    "name": "ipython",
    "version": 3
   },
   "file_extension": ".py",
   "mimetype": "text/x-python",
   "name": "python",
   "nbconvert_exporter": "python",
   "pygments_lexer": "ipython3",
   "version": "3.9.21"
  }
 },
 "nbformat": 4,
 "nbformat_minor": 4
}
